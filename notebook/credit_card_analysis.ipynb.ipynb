{
 "cells": [
  {
   "cell_type": "code",
   "execution_count": 1,
   "id": "1419f0ec",
   "metadata": {},
   "outputs": [],
   "source": [
    "import pandas as pd\n",
    "import matplotlib.pyplot as plt\n",
    "import seaborn as sns"
   ]
  },
  {
   "cell_type": "code",
   "execution_count": 2,
   "id": "5829959e",
   "metadata": {},
   "outputs": [],
   "source": [
    "df = pd.read_csv('credit_card_transactions.csv')"
   ]
  },
  {
   "cell_type": "code",
   "execution_count": 3,
   "id": "3c693e64",
   "metadata": {},
   "outputs": [
    {
     "data": {
      "text/plain": [
       "(25000, 11)"
      ]
     },
     "execution_count": 3,
     "metadata": {},
     "output_type": "execute_result"
    }
   ],
   "source": [
    "df.shape"
   ]
  },
  {
   "cell_type": "code",
   "execution_count": 4,
   "id": "899c1111",
   "metadata": {},
   "outputs": [
    {
     "data": {
      "application/vnd.microsoft.datawrangler.viewer.v0+json": {
       "columns": [
        {
         "name": "index",
         "rawType": "int64",
         "type": "integer"
        },
        {
         "name": "transaction_id",
         "rawType": "object",
         "type": "string"
        },
        {
         "name": "customer_id",
         "rawType": "int64",
         "type": "integer"
        },
        {
         "name": "date",
         "rawType": "object",
         "type": "string"
        },
        {
         "name": "amount",
         "rawType": "float64",
         "type": "float"
        },
        {
         "name": "merchant",
         "rawType": "object",
         "type": "string"
        },
        {
         "name": "category",
         "rawType": "object",
         "type": "unknown"
        },
        {
         "name": "country",
         "rawType": "object",
         "type": "string"
        },
        {
         "name": "is_international",
         "rawType": "int64",
         "type": "integer"
        },
        {
         "name": "card_type",
         "rawType": "object",
         "type": "string"
        },
        {
         "name": "currency",
         "rawType": "object",
         "type": "string"
        },
        {
         "name": "flagged",
         "rawType": "int64",
         "type": "integer"
        }
       ],
       "ref": "35d089f6-c9da-4a37-a9cd-5b761e6fa6e6",
       "rows": [
        [
         "0",
         "TXN000001",
         "1844",
         "2024-01-16",
         "196.91",
         "Maldonado, Ballard and Alvarez",
         "Entertainment",
         "India",
         "0",
         "amex",
         "INR",
         "0"
        ],
        [
         "1",
         "TXN000002",
         "2404",
         "2024-02-19",
         "61.06",
         "Young-Carlson",
         "Travel",
         "Singapore",
         "1",
         "Visa",
         "SGD",
         "0"
        ],
        [
         "2",
         "TXN000003",
         "1984",
         "2024-02-08",
         "1584.72",
         "Obrien, Fuller and Keller",
         "dinning",
         "Germany",
         "1",
         "AmEx",
         "EUR",
         "1"
        ],
        [
         "3",
         "TXN000004",
         "2994",
         "2024-03-17",
         "25.72",
         "Rodriguez-Kelly",
         "Entertainment",
         "USA",
         "0",
         "Visa",
         "USD",
         "0"
        ],
        [
         "4",
         "TXN000005",
         "2725",
         "2024-05-30",
         "262.93",
         "Mcdonald, Nguyen and Sloan",
         "Travel",
         "India",
         "0",
         "MasterCard",
         "INR",
         "0"
        ],
        [
         "5",
         "TXN000006",
         "2786",
         "2024-01-22",
         "422.94",
         "Adams-Flores",
         "dinning",
         "Taiwan",
         "0",
         "MasterCard",
         "TWD",
         "0"
        ],
        [
         "6",
         "TXN000007",
         "1205",
         "2024-01-15",
         "129.11",
         "Bryant, Galvan and Parker",
         "Elec-tronics",
         "Vietnam",
         "0",
         "Master Card",
         "VND",
         "0"
        ],
        [
         "7",
         "TXN000008",
         "1873",
         "2024-03-31",
         "204.21",
         "Bell-Dean",
         null,
         "India",
         "0",
         "Visa",
         "INR",
         "0"
        ],
        [
         "8",
         "TXN000009",
         "2104",
         "2023-12-30",
         "66.65",
         "Bradshaw, Cherry and Blackburn",
         "Health",
         "Taiwan",
         "0",
         "AmEx",
         "TWD",
         "0"
        ],
        [
         "9",
         "TXN000010",
         "1960",
         "2023-12-27",
         "250.07",
         "White, Gonzalez and Gibson",
         "Entertainment",
         "USA",
         "0",
         "Visa",
         "USD",
         "0"
        ]
       ],
       "shape": {
        "columns": 11,
        "rows": 10
       }
      },
      "text/html": [
       "<div>\n",
       "<style scoped>\n",
       "    .dataframe tbody tr th:only-of-type {\n",
       "        vertical-align: middle;\n",
       "    }\n",
       "\n",
       "    .dataframe tbody tr th {\n",
       "        vertical-align: top;\n",
       "    }\n",
       "\n",
       "    .dataframe thead th {\n",
       "        text-align: right;\n",
       "    }\n",
       "</style>\n",
       "<table border=\"1\" class=\"dataframe\">\n",
       "  <thead>\n",
       "    <tr style=\"text-align: right;\">\n",
       "      <th></th>\n",
       "      <th>transaction_id</th>\n",
       "      <th>customer_id</th>\n",
       "      <th>date</th>\n",
       "      <th>amount</th>\n",
       "      <th>merchant</th>\n",
       "      <th>category</th>\n",
       "      <th>country</th>\n",
       "      <th>is_international</th>\n",
       "      <th>card_type</th>\n",
       "      <th>currency</th>\n",
       "      <th>flagged</th>\n",
       "    </tr>\n",
       "  </thead>\n",
       "  <tbody>\n",
       "    <tr>\n",
       "      <th>0</th>\n",
       "      <td>TXN000001</td>\n",
       "      <td>1844</td>\n",
       "      <td>2024-01-16</td>\n",
       "      <td>196.91</td>\n",
       "      <td>Maldonado, Ballard and Alvarez</td>\n",
       "      <td>Entertainment</td>\n",
       "      <td>India</td>\n",
       "      <td>0</td>\n",
       "      <td>amex</td>\n",
       "      <td>INR</td>\n",
       "      <td>0</td>\n",
       "    </tr>\n",
       "    <tr>\n",
       "      <th>1</th>\n",
       "      <td>TXN000002</td>\n",
       "      <td>2404</td>\n",
       "      <td>2024-02-19</td>\n",
       "      <td>61.06</td>\n",
       "      <td>Young-Carlson</td>\n",
       "      <td>Travel</td>\n",
       "      <td>Singapore</td>\n",
       "      <td>1</td>\n",
       "      <td>Visa</td>\n",
       "      <td>SGD</td>\n",
       "      <td>0</td>\n",
       "    </tr>\n",
       "    <tr>\n",
       "      <th>2</th>\n",
       "      <td>TXN000003</td>\n",
       "      <td>1984</td>\n",
       "      <td>2024-02-08</td>\n",
       "      <td>1584.72</td>\n",
       "      <td>Obrien, Fuller and Keller</td>\n",
       "      <td>dinning</td>\n",
       "      <td>Germany</td>\n",
       "      <td>1</td>\n",
       "      <td>AmEx</td>\n",
       "      <td>EUR</td>\n",
       "      <td>1</td>\n",
       "    </tr>\n",
       "    <tr>\n",
       "      <th>3</th>\n",
       "      <td>TXN000004</td>\n",
       "      <td>2994</td>\n",
       "      <td>2024-03-17</td>\n",
       "      <td>25.72</td>\n",
       "      <td>Rodriguez-Kelly</td>\n",
       "      <td>Entertainment</td>\n",
       "      <td>USA</td>\n",
       "      <td>0</td>\n",
       "      <td>Visa</td>\n",
       "      <td>USD</td>\n",
       "      <td>0</td>\n",
       "    </tr>\n",
       "    <tr>\n",
       "      <th>4</th>\n",
       "      <td>TXN000005</td>\n",
       "      <td>2725</td>\n",
       "      <td>2024-05-30</td>\n",
       "      <td>262.93</td>\n",
       "      <td>Mcdonald, Nguyen and Sloan</td>\n",
       "      <td>Travel</td>\n",
       "      <td>India</td>\n",
       "      <td>0</td>\n",
       "      <td>MasterCard</td>\n",
       "      <td>INR</td>\n",
       "      <td>0</td>\n",
       "    </tr>\n",
       "    <tr>\n",
       "      <th>5</th>\n",
       "      <td>TXN000006</td>\n",
       "      <td>2786</td>\n",
       "      <td>2024-01-22</td>\n",
       "      <td>422.94</td>\n",
       "      <td>Adams-Flores</td>\n",
       "      <td>dinning</td>\n",
       "      <td>Taiwan</td>\n",
       "      <td>0</td>\n",
       "      <td>MasterCard</td>\n",
       "      <td>TWD</td>\n",
       "      <td>0</td>\n",
       "    </tr>\n",
       "    <tr>\n",
       "      <th>6</th>\n",
       "      <td>TXN000007</td>\n",
       "      <td>1205</td>\n",
       "      <td>2024-01-15</td>\n",
       "      <td>129.11</td>\n",
       "      <td>Bryant, Galvan and Parker</td>\n",
       "      <td>Elec-tronics</td>\n",
       "      <td>Vietnam</td>\n",
       "      <td>0</td>\n",
       "      <td>Master Card</td>\n",
       "      <td>VND</td>\n",
       "      <td>0</td>\n",
       "    </tr>\n",
       "    <tr>\n",
       "      <th>7</th>\n",
       "      <td>TXN000008</td>\n",
       "      <td>1873</td>\n",
       "      <td>2024-03-31</td>\n",
       "      <td>204.21</td>\n",
       "      <td>Bell-Dean</td>\n",
       "      <td>NaN</td>\n",
       "      <td>India</td>\n",
       "      <td>0</td>\n",
       "      <td>Visa</td>\n",
       "      <td>INR</td>\n",
       "      <td>0</td>\n",
       "    </tr>\n",
       "    <tr>\n",
       "      <th>8</th>\n",
       "      <td>TXN000009</td>\n",
       "      <td>2104</td>\n",
       "      <td>2023-12-30</td>\n",
       "      <td>66.65</td>\n",
       "      <td>Bradshaw, Cherry and Blackburn</td>\n",
       "      <td>Health</td>\n",
       "      <td>Taiwan</td>\n",
       "      <td>0</td>\n",
       "      <td>AmEx</td>\n",
       "      <td>TWD</td>\n",
       "      <td>0</td>\n",
       "    </tr>\n",
       "    <tr>\n",
       "      <th>9</th>\n",
       "      <td>TXN000010</td>\n",
       "      <td>1960</td>\n",
       "      <td>2023-12-27</td>\n",
       "      <td>250.07</td>\n",
       "      <td>White, Gonzalez and Gibson</td>\n",
       "      <td>Entertainment</td>\n",
       "      <td>USA</td>\n",
       "      <td>0</td>\n",
       "      <td>Visa</td>\n",
       "      <td>USD</td>\n",
       "      <td>0</td>\n",
       "    </tr>\n",
       "  </tbody>\n",
       "</table>\n",
       "</div>"
      ],
      "text/plain": [
       "  transaction_id  customer_id        date   amount  \\\n",
       "0      TXN000001         1844  2024-01-16   196.91   \n",
       "1      TXN000002         2404  2024-02-19    61.06   \n",
       "2      TXN000003         1984  2024-02-08  1584.72   \n",
       "3      TXN000004         2994  2024-03-17    25.72   \n",
       "4      TXN000005         2725  2024-05-30   262.93   \n",
       "5      TXN000006         2786  2024-01-22   422.94   \n",
       "6      TXN000007         1205  2024-01-15   129.11   \n",
       "7      TXN000008         1873  2024-03-31   204.21   \n",
       "8      TXN000009         2104  2023-12-30    66.65   \n",
       "9      TXN000010         1960  2023-12-27   250.07   \n",
       "\n",
       "                         merchant       category    country  is_international  \\\n",
       "0  Maldonado, Ballard and Alvarez  Entertainment      India                 0   \n",
       "1                   Young-Carlson         Travel  Singapore                 1   \n",
       "2       Obrien, Fuller and Keller        dinning    Germany                 1   \n",
       "3                 Rodriguez-Kelly  Entertainment        USA                 0   \n",
       "4      Mcdonald, Nguyen and Sloan         Travel      India                 0   \n",
       "5                    Adams-Flores        dinning     Taiwan                 0   \n",
       "6       Bryant, Galvan and Parker   Elec-tronics    Vietnam                 0   \n",
       "7                       Bell-Dean            NaN      India                 0   \n",
       "8  Bradshaw, Cherry and Blackburn         Health     Taiwan                 0   \n",
       "9      White, Gonzalez and Gibson  Entertainment        USA                 0   \n",
       "\n",
       "     card_type currency  flagged  \n",
       "0         amex      INR        0  \n",
       "1         Visa      SGD        0  \n",
       "2         AmEx      EUR        1  \n",
       "3         Visa      USD        0  \n",
       "4   MasterCard      INR        0  \n",
       "5   MasterCard      TWD        0  \n",
       "6  Master Card      VND        0  \n",
       "7         Visa      INR        0  \n",
       "8         AmEx      TWD        0  \n",
       "9         Visa      USD        0  "
      ]
     },
     "execution_count": 4,
     "metadata": {},
     "output_type": "execute_result"
    }
   ],
   "source": [
    "df.head(10)"
   ]
  },
  {
   "cell_type": "code",
   "execution_count": 5,
   "id": "670a2fce",
   "metadata": {},
   "outputs": [
    {
     "name": "stdout",
     "output_type": "stream",
     "text": [
      "<class 'pandas.core.frame.DataFrame'>\n",
      "RangeIndex: 25000 entries, 0 to 24999\n",
      "Data columns (total 11 columns):\n",
      " #   Column            Non-Null Count  Dtype  \n",
      "---  ------            --------------  -----  \n",
      " 0   transaction_id    25000 non-null  object \n",
      " 1   customer_id       25000 non-null  int64  \n",
      " 2   date              24721 non-null  object \n",
      " 3   amount            24765 non-null  float64\n",
      " 4   merchant          25000 non-null  object \n",
      " 5   category          21701 non-null  object \n",
      " 6   country           25000 non-null  object \n",
      " 7   is_international  25000 non-null  int64  \n",
      " 8   card_type         25000 non-null  object \n",
      " 9   currency          25000 non-null  object \n",
      " 10  flagged           25000 non-null  int64  \n",
      "dtypes: float64(1), int64(3), object(7)\n",
      "memory usage: 2.1+ MB\n"
     ]
    }
   ],
   "source": [
    "df.info()"
   ]
  },
  {
   "cell_type": "code",
   "execution_count": 6,
   "id": "f8b124b2",
   "metadata": {},
   "outputs": [
    {
     "data": {
      "text/plain": [
       "np.int64(0)"
      ]
     },
     "execution_count": 6,
     "metadata": {},
     "output_type": "execute_result"
    }
   ],
   "source": [
    "# Check for duplicate rows\n",
    "df.duplicated().sum()"
   ]
  },
  {
   "cell_type": "code",
   "execution_count": 7,
   "id": "6ece0afa",
   "metadata": {},
   "outputs": [
    {
     "data": {
      "application/vnd.microsoft.datawrangler.viewer.v0+json": {
       "columns": [
        {
         "name": "index",
         "rawType": "object",
         "type": "string"
        },
        {
         "name": "0",
         "rawType": "int64",
         "type": "integer"
        }
       ],
       "ref": "4dffcd0b-b9d8-4adc-a950-3aff6cc3ef6b",
       "rows": [
        [
         "transaction_id",
         "0"
        ],
        [
         "customer_id",
         "0"
        ],
        [
         "date",
         "279"
        ],
        [
         "amount",
         "235"
        ],
        [
         "merchant",
         "0"
        ],
        [
         "category",
         "3299"
        ],
        [
         "country",
         "0"
        ],
        [
         "is_international",
         "0"
        ],
        [
         "card_type",
         "0"
        ],
        [
         "currency",
         "0"
        ],
        [
         "flagged",
         "0"
        ]
       ],
       "shape": {
        "columns": 1,
        "rows": 11
       }
      },
      "text/plain": [
       "transaction_id         0\n",
       "customer_id            0\n",
       "date                 279\n",
       "amount               235\n",
       "merchant               0\n",
       "category            3299\n",
       "country                0\n",
       "is_international       0\n",
       "card_type              0\n",
       "currency               0\n",
       "flagged                0\n",
       "dtype: int64"
      ]
     },
     "execution_count": 7,
     "metadata": {},
     "output_type": "execute_result"
    }
   ],
   "source": [
    "# check for missing values\n",
    "# 1. Count missing values in each column\n",
    "df.isnull().sum()"
   ]
  },
  {
   "cell_type": "code",
   "execution_count": 8,
   "id": "00b2973e",
   "metadata": {},
   "outputs": [
    {
     "data": {
      "application/vnd.microsoft.datawrangler.viewer.v0+json": {
       "columns": [
        {
         "name": "index",
         "rawType": "object",
         "type": "string"
        },
        {
         "name": "Missing Count",
         "rawType": "int64",
         "type": "integer"
        },
        {
         "name": "Missing %",
         "rawType": "float64",
         "type": "float"
        }
       ],
       "ref": "a5ff6fb7-41ea-4923-bfca-e050c5e0fbd1",
       "rows": [
        [
         "date",
         "279",
         "1.12"
        ],
        [
         "amount",
         "235",
         "0.94"
        ],
        [
         "category",
         "3299",
         "13.2"
        ]
       ],
       "shape": {
        "columns": 2,
        "rows": 3
       }
      },
      "text/html": [
       "<div>\n",
       "<style scoped>\n",
       "    .dataframe tbody tr th:only-of-type {\n",
       "        vertical-align: middle;\n",
       "    }\n",
       "\n",
       "    .dataframe tbody tr th {\n",
       "        vertical-align: top;\n",
       "    }\n",
       "\n",
       "    .dataframe thead th {\n",
       "        text-align: right;\n",
       "    }\n",
       "</style>\n",
       "<table border=\"1\" class=\"dataframe\">\n",
       "  <thead>\n",
       "    <tr style=\"text-align: right;\">\n",
       "      <th></th>\n",
       "      <th>Missing Count</th>\n",
       "      <th>Missing %</th>\n",
       "    </tr>\n",
       "  </thead>\n",
       "  <tbody>\n",
       "    <tr>\n",
       "      <th>date</th>\n",
       "      <td>279</td>\n",
       "      <td>1.12</td>\n",
       "    </tr>\n",
       "    <tr>\n",
       "      <th>amount</th>\n",
       "      <td>235</td>\n",
       "      <td>0.94</td>\n",
       "    </tr>\n",
       "    <tr>\n",
       "      <th>category</th>\n",
       "      <td>3299</td>\n",
       "      <td>13.20</td>\n",
       "    </tr>\n",
       "  </tbody>\n",
       "</table>\n",
       "</div>"
      ],
      "text/plain": [
       "          Missing Count  Missing %\n",
       "date                279       1.12\n",
       "amount              235       0.94\n",
       "category           3299      13.20"
      ]
     },
     "execution_count": 8,
     "metadata": {},
     "output_type": "execute_result"
    }
   ],
   "source": [
    "# Count + percentage of missing values\n",
    "missing = df.isnull().sum().to_frame(name='Missing Count')\n",
    "missing['Missing %'] = (missing['Missing Count'] / len(df) * 100).round(2)\n",
    "missing[missing['Missing Count'] > 0]\n"
   ]
  },
  {
   "cell_type": "code",
   "execution_count": 9,
   "id": "855bb5d8",
   "metadata": {},
   "outputs": [
    {
     "data": {
      "text/plain": [
       "array(['Entertainment', 'Travel', 'dinning', 'Elec-tronics', nan,\n",
       "       'Health', 'grocerie', 'Travell', 'Dining', 'Utilities', 'Clothing',\n",
       "       'Electronics', 'Groceries', 'healthcare'], dtype=object)"
      ]
     },
     "execution_count": 9,
     "metadata": {},
     "output_type": "execute_result"
    }
   ],
   "source": [
    "# check unique values\n",
    "df['category'].unique()"
   ]
  },
  {
   "cell_type": "code",
   "execution_count": 10,
   "id": "2b73ee0e",
   "metadata": {},
   "outputs": [
    {
     "data": {
      "text/plain": [
       "array(['amex', 'Visa', 'AmEx', 'MasterCard', 'Master Card'], dtype=object)"
      ]
     },
     "execution_count": 10,
     "metadata": {},
     "output_type": "execute_result"
    }
   ],
   "source": [
    "df['card_type'].unique()"
   ]
  },
  {
   "cell_type": "code",
   "execution_count": 11,
   "id": "3a2fe57a",
   "metadata": {},
   "outputs": [
    {
     "data": {
      "application/vnd.microsoft.datawrangler.viewer.v0+json": {
       "columns": [
        {
         "name": "index",
         "rawType": "object",
         "type": "string"
        },
        {
         "name": "customer_id",
         "rawType": "float64",
         "type": "float"
        },
        {
         "name": "amount",
         "rawType": "float64",
         "type": "float"
        },
        {
         "name": "is_international",
         "rawType": "float64",
         "type": "float"
        },
        {
         "name": "flagged",
         "rawType": "float64",
         "type": "float"
        }
       ],
       "ref": "bff57600-6e1d-4039-8a06-bc73fa41219a",
       "rows": [
        [
         "count",
         "25000.0",
         "24765.0",
         "25000.0",
         "25000.0"
        ],
        [
         "mean",
         "1999.92972",
         "104.46856854431655",
         "0.20424",
         "0.00644"
        ],
        [
         "std",
         "576.9609101285755",
         "192.63481872664818",
         "0.4031532260827737",
         "0.07999238933357379"
        ],
        [
         "min",
         "1000.0",
         "0.0",
         "0.0",
         "0.0"
        ],
        [
         "25%",
         "1498.0",
         "26.59",
         "0.0",
         "0.0"
        ],
        [
         "50%",
         "2002.0",
         "63.36",
         "0.0",
         "0.0"
        ],
        [
         "75%",
         "2503.0",
         "128.23",
         "0.0",
         "0.0"
        ],
        [
         "max",
         "2999.0",
         "7029.48",
         "1.0",
         "1.0"
        ]
       ],
       "shape": {
        "columns": 4,
        "rows": 8
       }
      },
      "text/html": [
       "<div>\n",
       "<style scoped>\n",
       "    .dataframe tbody tr th:only-of-type {\n",
       "        vertical-align: middle;\n",
       "    }\n",
       "\n",
       "    .dataframe tbody tr th {\n",
       "        vertical-align: top;\n",
       "    }\n",
       "\n",
       "    .dataframe thead th {\n",
       "        text-align: right;\n",
       "    }\n",
       "</style>\n",
       "<table border=\"1\" class=\"dataframe\">\n",
       "  <thead>\n",
       "    <tr style=\"text-align: right;\">\n",
       "      <th></th>\n",
       "      <th>customer_id</th>\n",
       "      <th>amount</th>\n",
       "      <th>is_international</th>\n",
       "      <th>flagged</th>\n",
       "    </tr>\n",
       "  </thead>\n",
       "  <tbody>\n",
       "    <tr>\n",
       "      <th>count</th>\n",
       "      <td>25000.00000</td>\n",
       "      <td>24765.000000</td>\n",
       "      <td>25000.000000</td>\n",
       "      <td>25000.000000</td>\n",
       "    </tr>\n",
       "    <tr>\n",
       "      <th>mean</th>\n",
       "      <td>1999.92972</td>\n",
       "      <td>104.468569</td>\n",
       "      <td>0.204240</td>\n",
       "      <td>0.006440</td>\n",
       "    </tr>\n",
       "    <tr>\n",
       "      <th>std</th>\n",
       "      <td>576.96091</td>\n",
       "      <td>192.634819</td>\n",
       "      <td>0.403153</td>\n",
       "      <td>0.079992</td>\n",
       "    </tr>\n",
       "    <tr>\n",
       "      <th>min</th>\n",
       "      <td>1000.00000</td>\n",
       "      <td>0.000000</td>\n",
       "      <td>0.000000</td>\n",
       "      <td>0.000000</td>\n",
       "    </tr>\n",
       "    <tr>\n",
       "      <th>25%</th>\n",
       "      <td>1498.00000</td>\n",
       "      <td>26.590000</td>\n",
       "      <td>0.000000</td>\n",
       "      <td>0.000000</td>\n",
       "    </tr>\n",
       "    <tr>\n",
       "      <th>50%</th>\n",
       "      <td>2002.00000</td>\n",
       "      <td>63.360000</td>\n",
       "      <td>0.000000</td>\n",
       "      <td>0.000000</td>\n",
       "    </tr>\n",
       "    <tr>\n",
       "      <th>75%</th>\n",
       "      <td>2503.00000</td>\n",
       "      <td>128.230000</td>\n",
       "      <td>0.000000</td>\n",
       "      <td>0.000000</td>\n",
       "    </tr>\n",
       "    <tr>\n",
       "      <th>max</th>\n",
       "      <td>2999.00000</td>\n",
       "      <td>7029.480000</td>\n",
       "      <td>1.000000</td>\n",
       "      <td>1.000000</td>\n",
       "    </tr>\n",
       "  </tbody>\n",
       "</table>\n",
       "</div>"
      ],
      "text/plain": [
       "       customer_id        amount  is_international       flagged\n",
       "count  25000.00000  24765.000000      25000.000000  25000.000000\n",
       "mean    1999.92972    104.468569          0.204240      0.006440\n",
       "std      576.96091    192.634819          0.403153      0.079992\n",
       "min     1000.00000      0.000000          0.000000      0.000000\n",
       "25%     1498.00000     26.590000          0.000000      0.000000\n",
       "50%     2002.00000     63.360000          0.000000      0.000000\n",
       "75%     2503.00000    128.230000          0.000000      0.000000\n",
       "max     2999.00000   7029.480000          1.000000      1.000000"
      ]
     },
     "execution_count": 11,
     "metadata": {},
     "output_type": "execute_result"
    }
   ],
   "source": [
    "df.describe()\n"
   ]
  },
  {
   "cell_type": "markdown",
   "id": "e3968d69",
   "metadata": {},
   "source": [
    "# Data cleaning"
   ]
  },
  {
   "cell_type": "code",
   "execution_count": 12,
   "id": "141fe046",
   "metadata": {},
   "outputs": [],
   "source": [
    "# convert date to datetime\n",
    "df['date'] = pd.to_datetime(df['date'], errors='coerce')"
   ]
  },
  {
   "cell_type": "code",
   "execution_count": 13,
   "id": "11a40bea",
   "metadata": {},
   "outputs": [],
   "source": [
    "# drop rows where amount is missing\n",
    "df = df.dropna(subset=['amount'])"
   ]
  },
  {
   "cell_type": "code",
   "execution_count": 14,
   "id": "36bcb69d",
   "metadata": {},
   "outputs": [],
   "source": [
    "cutoff = pd.to_datetime('2024-05-31')\n",
    "df = df[df['date'] <= cutoff]"
   ]
  },
  {
   "cell_type": "code",
   "execution_count": 15,
   "id": "2aa96091",
   "metadata": {},
   "outputs": [],
   "source": [
    "df['year_month'] = df['date'].dt.to_period('M').astype(str)"
   ]
  },
  {
   "cell_type": "code",
   "execution_count": 16,
   "id": "a6be39d0",
   "metadata": {},
   "outputs": [],
   "source": [
    "# Set boundaries\n",
    "start_date = pd.to_datetime('2023-12-01')\n",
    "end_date = pd.to_datetime('2024-05-31')\n",
    "\n",
    "# Filter in only rows with date in the correct range\n",
    "df = df[(df['date'] >= start_date) & (df['date'] <= end_date)]"
   ]
  },
  {
   "cell_type": "code",
   "execution_count": 17,
   "id": "c5695bd2",
   "metadata": {},
   "outputs": [
    {
     "data": {
      "text/plain": [
       "(Timestamp('2023-12-01 00:00:00'), Timestamp('2024-05-31 00:00:00'))"
      ]
     },
     "execution_count": 17,
     "metadata": {},
     "output_type": "execute_result"
    }
   ],
   "source": [
    "df['date'].min(), df['date'].max()"
   ]
  },
  {
   "cell_type": "code",
   "execution_count": 18,
   "id": "f901d00a",
   "metadata": {},
   "outputs": [
    {
     "data": {
      "text/plain": [
       "array(['2023-12', '2024-01', '2024-02', '2024-03', '2024-04', '2024-05'],\n",
       "      dtype=object)"
      ]
     },
     "execution_count": 18,
     "metadata": {},
     "output_type": "execute_result"
    }
   ],
   "source": [
    "df['year_month'].sort_values().unique()"
   ]
  },
  {
   "cell_type": "code",
   "execution_count": 19,
   "id": "b2c824e3",
   "metadata": {},
   "outputs": [],
   "source": [
    "df['amount'] = df['amount'].round(2)"
   ]
  },
  {
   "cell_type": "code",
   "execution_count": 20,
   "id": "ffe30999",
   "metadata": {},
   "outputs": [],
   "source": [
    "# Convert to boolean data type\n",
    "df['is_international'] = df['is_international'].astype(bool)\n",
    "df['flagged'] = df['flagged'].astype(bool)"
   ]
  },
  {
   "cell_type": "code",
   "execution_count": 21,
   "id": "8d487e64",
   "metadata": {},
   "outputs": [],
   "source": [
    "# Remove extra spaces and make all lowercase\n",
    "df['category'] = df['category'].astype(str).str.strip().str.lower()\n",
    "df['card_type'] = df['card_type'].astype(str).str.strip().str.lower()"
   ]
  },
  {
   "cell_type": "code",
   "execution_count": 22,
   "id": "2ae24bf0",
   "metadata": {},
   "outputs": [],
   "source": [
    "# Replace Misspellings and Variants with Correct Labels\n",
    "category_map = {\n",
    "    'dinning': 'dining',\n",
    "    'elec-tronics': 'electronics',\n",
    "    'travell': 'travel',\n",
    "    'grocerie': 'groceries',\n",
    "    'healthcare': 'health',\n",
    "    'health': 'health',\n",
    "    '': 'unknown',\n",
    "    'none': 'unknown',\n",
    "    'nan': 'unknown'\n",
    "}\n",
    "\n",
    "df['category'] = df['category'].replace(category_map)\n"
   ]
  },
  {
   "cell_type": "code",
   "execution_count": 23,
   "id": "b35bf32f",
   "metadata": {},
   "outputs": [],
   "source": [
    "card_type_map = {\n",
    "    'visa': 'Visa',\n",
    "    'master card': 'MasterCard',\n",
    "    'mastercard': 'MasterCard',\n",
    "    'amex': 'AmEx',\n",
    "    'american express': 'AmEx'\n",
    "}\n",
    "\n",
    "df['card_type'] = df['card_type'].replace(card_type_map)"
   ]
  },
  {
   "cell_type": "code",
   "execution_count": 24,
   "id": "f82cc38d",
   "metadata": {},
   "outputs": [],
   "source": [
    "# Format as Title Case\n",
    "df['category'] = df['category'].str.title()\n"
   ]
  },
  {
   "cell_type": "code",
   "execution_count": 25,
   "id": "7764510e",
   "metadata": {},
   "outputs": [],
   "source": [
    "# Create amount_usd Column\n",
    "\n",
    "exchange_rates = {\n",
    "    'USD': 1.00,\n",
    "    'GBP': 1.30,\n",
    "    'EUR': 1.10,\n",
    "    'INR': 0.012,\n",
    "    'SGD': 0.74,\n",
    "    'JPY': 0.007,\n",
    "    'TWD': 0.032,\n",
    "    'VND': 0.000041\n",
    "}\n",
    "\n",
    "df['amount_usd'] = df['amount'] * df['currency'].map(exchange_rates)\n",
    "df['amount_usd'] = df['amount_usd'].round(2)\n"
   ]
  },
  {
   "cell_type": "code",
   "execution_count": 26,
   "id": "d94489d5",
   "metadata": {},
   "outputs": [],
   "source": [
    "card_type_map = {\n",
    "    'visa': 'Visa',\n",
    "    'master card': 'MasterCard',\n",
    "    'mastercard': 'MasterCard',\n",
    "    'amex': 'AmEx',\n",
    "    'american express': 'AmEx'\n",
    "}\n",
    "\n",
    "df['card_type'] = df['card_type'].replace(card_type_map)\n"
   ]
  },
  {
   "cell_type": "markdown",
   "id": "52e1eea1",
   "metadata": {},
   "source": [
    "# Exploratory Data Analysis (EDA)"
   ]
  },
  {
   "cell_type": "markdown",
   "id": "85b30ff3",
   "metadata": {},
   "source": [
    "## Metrics / KPIs to Track"
   ]
  },
  {
   "cell_type": "code",
   "execution_count": 27,
   "id": "ee7184aa",
   "metadata": {},
   "outputs": [],
   "source": [
    "#  Extract Year-Month from date column\n",
    "df['year_month'] = df['date'].dt.to_period('M').astype(str)"
   ]
  },
  {
   "cell_type": "code",
   "execution_count": 28,
   "id": "f3c46e95",
   "metadata": {},
   "outputs": [
    {
     "name": "stdout",
     "output_type": "stream",
     "text": [
      "  year_month  amount_usd\n",
      "0    2023-12   211968.97\n",
      "1    2024-01   226022.69\n",
      "2    2024-02   199089.83\n",
      "3    2024-03   211057.12\n",
      "4    2024-04   222292.50\n",
      "5    2024-05   233302.67\n"
     ]
    }
   ],
   "source": [
    "#  Group by Month and Calculate Total Spending\n",
    "monthly_spend = df.groupby('year_month')['amount_usd'].sum().reset_index()\n",
    "print(monthly_spend)"
   ]
  },
  {
   "cell_type": "code",
   "execution_count": 29,
   "id": "f8d5e219",
   "metadata": {},
   "outputs": [],
   "source": [
    "# Add Transaction Volume\n",
    "monthly_txn = df.groupby('year_month').agg(\n",
    "    total_spend=('amount_usd', 'sum'),\n",
    "    txn_count=('transaction_id', 'count')\n",
    ").reset_index()\n"
   ]
  },
  {
   "cell_type": "code",
   "execution_count": 30,
   "id": "5246bdbd",
   "metadata": {},
   "outputs": [
    {
     "data": {
      "image/png": "[encoded data removed]",
      "text/plain": [
       "<Figure size 1000x500 with 1 Axes>"
      ]
     },
     "metadata": {},
     "output_type": "display_data"
    }
   ],
   "source": [
    "plt.figure(figsize=(10, 5))\n",
    "sns.lineplot(data=monthly_txn, x='year_month', y='total_spend', marker='o')\n",
    "plt.title('Total Monthly Credit Card Spending (USD)')\n",
    "plt.xlabel('Month')\n",
    "plt.ylabel('Total Spend (USD)')\n",
    "plt.xticks(rotation=45)\n",
    "plt.tight_layout()\n",
    "plt.show()"
   ]
  },
  {
   "cell_type": "markdown",
   "id": "2d7a8979",
   "metadata": {},
   "source": [
    "Total credit card spending showed a clear upward trend from February to May 2024, increasing by over 17% in just 3 months (from ~$199K in Feb to ~$233K in May)."
   ]
  },
  {
   "cell_type": "code",
   "execution_count": 31,
   "id": "fdf4b16d",
   "metadata": {},
   "outputs": [
    {
     "name": "stdout",
     "output_type": "stream",
     "text": [
      "Average Transaction Size: $54.28\n"
     ]
    }
   ],
   "source": [
    "# Overall average transaction size\n",
    "avg_txn = df['amount_usd'].mean().round(2)\n",
    "print(f\"Average Transaction Size: ${avg_txn}\")"
   ]
  },
  {
   "cell_type": "code",
   "execution_count": 32,
   "id": "0a25b9f8",
   "metadata": {},
   "outputs": [
    {
     "data": {
      "image/png": "[encoded data removed]",
      "text/plain": [
       "<Figure size 1000x500 with 1 Axes>"
      ]
     },
     "metadata": {},
     "output_type": "display_data"
    }
   ],
   "source": [
    "# Monthly average transaction size\n",
    "avg_monthly = df.groupby('year_month')['amount_usd'].mean().reset_index()\n",
    "\n",
    "# Plot\n",
    "import matplotlib.pyplot as plt\n",
    "import seaborn as sns\n",
    "\n",
    "plt.figure(figsize=(10, 5))\n",
    "sns.lineplot(data=avg_monthly, x='year_month', y='amount_usd', marker='o')\n",
    "plt.title('Average Credit Card Transaction Size (USD)')\n",
    "plt.xlabel('Month')\n",
    "plt.ylabel('Avg. Transaction Size (USD)')\n",
    "plt.xticks(rotation=45)\n",
    "plt.tight_layout()\n",
    "plt.show()"
   ]
  },
  {
   "cell_type": "code",
   "execution_count": 33,
   "id": "ff86c7d8",
   "metadata": {},
   "outputs": [
    {
     "name": "stdout",
     "output_type": "stream",
     "text": [
      "   customer_id  total_spent_usd\n",
      "0         1097          5832.32\n",
      "1         1447          5303.44\n",
      "2         1052          5127.17\n",
      "3         1553          4721.76\n",
      "4         1907          4628.75\n"
     ]
    }
   ],
   "source": [
    "# Top 5 Spenders (by total amount spent in usd)\n",
    "top_spenders = df.groupby('customer_id')['amount_usd'].sum().nlargest(5).reset_index()\n",
    "top_spenders.columns = ['customer_id', 'total_spent_usd']\n",
    "print(top_spenders)"
   ]
  },
  {
   "cell_type": "code",
   "execution_count": 34,
   "id": "00a57470",
   "metadata": {},
   "outputs": [
    {
     "name": "stdout",
     "output_type": "stream",
     "text": [
      "Flagged Transactions: 157 (0.65%)\n"
     ]
    }
   ],
   "source": [
    "# Total flagged and percentage\n",
    "flagged_count = df['flagged'].sum()\n",
    "flagged_pct = (flagged_count / len(df) * 100).round(2)\n",
    "\n",
    "print(f\"Flagged Transactions: {flagged_count} ({flagged_pct}%)\")"
   ]
  },
  {
   "cell_type": "code",
   "execution_count": 35,
   "id": "a729ea40",
   "metadata": {},
   "outputs": [
    {
     "name": "stdout",
     "output_type": "stream",
     "text": [
      "International Transactions: 4923 (20.5%)\n"
     ]
    }
   ],
   "source": [
    "#  International usage %\n",
    "intl_count = df['is_international'].sum()\n",
    "intl_pct = (intl_count / len(df) * 100).round(2)\n",
    "\n",
    "print(f\"International Transactions: {intl_count} ({intl_pct}%)\")"
   ]
  },
  {
   "cell_type": "code",
   "execution_count": 36,
   "id": "2b10bd22",
   "metadata": {},
   "outputs": [
    {
     "name": "stdout",
     "output_type": "stream",
     "text": [
      "       category   card_type  amount_usd\n",
      "15       Health        AmEx    79667.65\n",
      "21      Unknown        AmEx    75772.65\n",
      "18       Travel        AmEx    75225.70\n",
      "22      Unknown  MasterCard    75005.90\n",
      "7   Electronics  MasterCard    74560.82\n",
      "6   Electronics        AmEx    67420.44\n",
      "3        Dining        AmEx    65803.93\n",
      "4        Dining  MasterCard    63329.23\n",
      "16       Health  MasterCard    60677.54\n",
      "19       Travel  MasterCard    59667.60\n"
     ]
    }
   ],
   "source": [
    "# Spend by Category and Card Type\n",
    "category_card_spend = df.groupby(['category', 'card_type'])['amount_usd'].sum().reset_index().sort_values(by='amount_usd', ascending=False)\n",
    "print(category_card_spend.head(10))\n"
   ]
  },
  {
   "cell_type": "markdown",
   "id": "4e63c3b5",
   "metadata": {},
   "source": [
    "## Anomaly Detection"
   ]
  },
  {
   "cell_type": "code",
   "execution_count": 37,
   "id": "2bbc09f0",
   "metadata": {},
   "outputs": [],
   "source": [
    "# Compute IQR\n",
    "Q1 = df['amount_usd'].quantile(0.25) # 25th percentile\n",
    "Q3 = df['amount_usd'].quantile(0.75) # 75th percentile\n",
    "IQR = Q3 - Q1                       # Interquartile range (spread of middle 50%)"
   ]
  },
  {
   "cell_type": "code",
   "execution_count": 38,
   "id": "8c90e60e",
   "metadata": {},
   "outputs": [],
   "source": [
    "# Define upper bound (we care about high spenders)\n",
    "upper_bound = Q3 + 1.5 * IQR             # Anything above this is considered an outlier"
   ]
  },
  {
   "cell_type": "code",
   "execution_count": 39,
   "id": "913b48be",
   "metadata": {},
   "outputs": [],
   "source": [
    " # Flag outliers\n",
    "df['is_outlier'] = df['amount_usd'] > upper_bound       # Create a new boolean column to flag it"
   ]
  },
  {
   "cell_type": "code",
   "execution_count": 40,
   "id": "e55aedc9",
   "metadata": {},
   "outputs": [
    {
     "name": "stdout",
     "output_type": "stream",
     "text": [
      "Outlier transactions (above $159.82): 2223\n"
     ]
    }
   ],
   "source": [
    "# Count\n",
    "outlier_count = df['is_outlier'].sum()\n",
    "print(f\"Outlier transactions (above ${upper_bound:.2f}): {outlier_count}\")   # Count how many True values"
   ]
  },
  {
   "cell_type": "code",
   "execution_count": 41,
   "id": "15065d8d",
   "metadata": {},
   "outputs": [
    {
     "data": {
      "application/vnd.microsoft.datawrangler.viewer.v0+json": {
       "columns": [
        {
         "name": "index",
         "rawType": "int64",
         "type": "integer"
        },
        {
         "name": "transaction_id",
         "rawType": "object",
         "type": "string"
        },
        {
         "name": "customer_id",
         "rawType": "int64",
         "type": "integer"
        },
        {
         "name": "date",
         "rawType": "datetime64[ns]",
         "type": "datetime"
        },
        {
         "name": "amount",
         "rawType": "float64",
         "type": "float"
        },
        {
         "name": "merchant",
         "rawType": "object",
         "type": "string"
        },
        {
         "name": "category",
         "rawType": "object",
         "type": "string"
        },
        {
         "name": "country",
         "rawType": "object",
         "type": "string"
        },
        {
         "name": "is_international",
         "rawType": "bool",
         "type": "boolean"
        },
        {
         "name": "card_type",
         "rawType": "object",
         "type": "string"
        },
        {
         "name": "currency",
         "rawType": "object",
         "type": "string"
        },
        {
         "name": "flagged",
         "rawType": "bool",
         "type": "boolean"
        },
        {
         "name": "year_month",
         "rawType": "object",
         "type": "string"
        },
        {
         "name": "amount_usd",
         "rawType": "float64",
         "type": "float"
        },
        {
         "name": "is_outlier",
         "rawType": "bool",
         "type": "boolean"
        }
       ],
       "ref": "cc8c27e5-bb1a-4b11-a73b-ac99a44dd4de",
       "rows": [
        [
         "13645",
         "TXN013646",
         "1052",
         "2024-05-05 00:00:00",
         "3654.36",
         "Tate LLC",
         "Electronics",
         "UK",
         "False",
         "MasterCard",
         "GBP",
         "True",
         "2024-05",
         "4750.67",
         "True"
        ],
        [
         "22952",
         "TXN022953",
         "1553",
         "2023-12-09 00:00:00",
         "4473.0",
         "Hernandez-Marks",
         "Unknown",
         "USA",
         "False",
         "MasterCard",
         "USD",
         "True",
         "2023-12",
         "4473.0",
         "True"
        ],
        [
         "16453",
         "TXN016454",
         "1907",
         "2024-01-29 00:00:00",
         "4227.96",
         "Hodges, Martinez and Price",
         "Utilities",
         "USA",
         "False",
         "Visa",
         "USD",
         "True",
         "2024-01",
         "4227.96",
         "True"
        ],
        [
         "8087",
         "TXN008088",
         "1097",
         "2024-02-03 00:00:00",
         "3044.4",
         "Drake, Thomas and Flores",
         "Electronics",
         "UK",
         "False",
         "Visa",
         "GBP",
         "True",
         "2024-02",
         "3957.72",
         "True"
        ],
        [
         "14031",
         "TXN014032",
         "2493",
         "2024-02-06 00:00:00",
         "2797.2",
         "Alvarez LLC",
         "Unknown",
         "UK",
         "False",
         "MasterCard",
         "GBP",
         "True",
         "2024-02",
         "3636.36",
         "True"
        ],
        [
         "12013",
         "TXN012014",
         "2277",
         "2024-04-06 00:00:00",
         "2904.72",
         "Hawkins-Mcdonald",
         "Utilities",
         "Germany",
         "False",
         "MasterCard",
         "EUR",
         "True",
         "2024-04",
         "3195.19",
         "True"
        ],
        [
         "12483",
         "TXN012484",
         "1583",
         "2024-01-14 00:00:00",
         "2418.96",
         "Duncan, Casey and Osborn",
         "Health",
         "UK",
         "False",
         "MasterCard",
         "GBP",
         "True",
         "2024-01",
         "3144.65",
         "True"
        ],
        [
         "6406",
         "TXN006407",
         "2664",
         "2024-04-03 00:00:00",
         "4131.96",
         "Barnes Inc",
         "Groceries",
         "Singapore",
         "False",
         "Visa",
         "SGD",
         "True",
         "2024-04",
         "3057.65",
         "True"
        ],
        [
         "10578",
         "TXN010579",
         "1102",
         "2023-12-16 00:00:00",
         "2317.2",
         "Green, Sims and Duran",
         "Health",
         "UK",
         "False",
         "AmEx",
         "GBP",
         "True",
         "2023-12",
         "3012.36",
         "True"
        ],
        [
         "5244",
         "TXN005245",
         "2421",
         "2024-05-21 00:00:00",
         "2316.72",
         "Rodgers PLC",
         "Health",
         "UK",
         "False",
         "AmEx",
         "GBP",
         "True",
         "2024-05",
         "3011.74",
         "True"
        ]
       ],
       "shape": {
        "columns": 14,
        "rows": 10
       }
      },
      "text/html": [
       "<div>\n",
       "<style scoped>\n",
       "    .dataframe tbody tr th:only-of-type {\n",
       "        vertical-align: middle;\n",
       "    }\n",
       "\n",
       "    .dataframe tbody tr th {\n",
       "        vertical-align: top;\n",
       "    }\n",
       "\n",
       "    .dataframe thead th {\n",
       "        text-align: right;\n",
       "    }\n",
       "</style>\n",
       "<table border=\"1\" class=\"dataframe\">\n",
       "  <thead>\n",
       "    <tr style=\"text-align: right;\">\n",
       "      <th></th>\n",
       "      <th>transaction_id</th>\n",
       "      <th>customer_id</th>\n",
       "      <th>date</th>\n",
       "      <th>amount</th>\n",
       "      <th>merchant</th>\n",
       "      <th>category</th>\n",
       "      <th>country</th>\n",
       "      <th>is_international</th>\n",
       "      <th>card_type</th>\n",
       "      <th>currency</th>\n",
       "      <th>flagged</th>\n",
       "      <th>year_month</th>\n",
       "      <th>amount_usd</th>\n",
       "      <th>is_outlier</th>\n",
       "    </tr>\n",
       "  </thead>\n",
       "  <tbody>\n",
       "    <tr>\n",
       "      <th>13645</th>\n",
       "      <td>TXN013646</td>\n",
       "      <td>1052</td>\n",
       "      <td>2024-05-05</td>\n",
       "      <td>3654.36</td>\n",
       "      <td>Tate LLC</td>\n",
       "      <td>Electronics</td>\n",
       "      <td>UK</td>\n",
       "      <td>False</td>\n",
       "      <td>MasterCard</td>\n",
       "      <td>GBP</td>\n",
       "      <td>True</td>\n",
       "      <td>2024-05</td>\n",
       "      <td>4750.67</td>\n",
       "      <td>True</td>\n",
       "    </tr>\n",
       "    <tr>\n",
       "      <th>22952</th>\n",
       "      <td>TXN022953</td>\n",
       "      <td>1553</td>\n",
       "      <td>2023-12-09</td>\n",
       "      <td>4473.00</td>\n",
       "      <td>Hernandez-Marks</td>\n",
       "      <td>Unknown</td>\n",
       "      <td>USA</td>\n",
       "      <td>False</td>\n",
       "      <td>MasterCard</td>\n",
       "      <td>USD</td>\n",
       "      <td>True</td>\n",
       "      <td>2023-12</td>\n",
       "      <td>4473.00</td>\n",
       "      <td>True</td>\n",
       "    </tr>\n",
       "    <tr>\n",
       "      <th>16453</th>\n",
       "      <td>TXN016454</td>\n",
       "      <td>1907</td>\n",
       "      <td>2024-01-29</td>\n",
       "      <td>4227.96</td>\n",
       "      <td>Hodges, Martinez and Price</td>\n",
       "      <td>Utilities</td>\n",
       "      <td>USA</td>\n",
       "      <td>False</td>\n",
       "      <td>Visa</td>\n",
       "      <td>USD</td>\n",
       "      <td>True</td>\n",
       "      <td>2024-01</td>\n",
       "      <td>4227.96</td>\n",
       "      <td>True</td>\n",
       "    </tr>\n",
       "    <tr>\n",
       "      <th>8087</th>\n",
       "      <td>TXN008088</td>\n",
       "      <td>1097</td>\n",
       "      <td>2024-02-03</td>\n",
       "      <td>3044.40</td>\n",
       "      <td>Drake, Thomas and Flores</td>\n",
       "      <td>Electronics</td>\n",
       "      <td>UK</td>\n",
       "      <td>False</td>\n",
       "      <td>Visa</td>\n",
       "      <td>GBP</td>\n",
       "      <td>True</td>\n",
       "      <td>2024-02</td>\n",
       "      <td>3957.72</td>\n",
       "      <td>True</td>\n",
       "    </tr>\n",
       "    <tr>\n",
       "      <th>14031</th>\n",
       "      <td>TXN014032</td>\n",
       "      <td>2493</td>\n",
       "      <td>2024-02-06</td>\n",
       "      <td>2797.20</td>\n",
       "      <td>Alvarez LLC</td>\n",
       "      <td>Unknown</td>\n",
       "      <td>UK</td>\n",
       "      <td>False</td>\n",
       "      <td>MasterCard</td>\n",
       "      <td>GBP</td>\n",
       "      <td>True</td>\n",
       "      <td>2024-02</td>\n",
       "      <td>3636.36</td>\n",
       "      <td>True</td>\n",
       "    </tr>\n",
       "    <tr>\n",
       "      <th>12013</th>\n",
       "      <td>TXN012014</td>\n",
       "      <td>2277</td>\n",
       "      <td>2024-04-06</td>\n",
       "      <td>2904.72</td>\n",
       "      <td>Hawkins-Mcdonald</td>\n",
       "      <td>Utilities</td>\n",
       "      <td>Germany</td>\n",
       "      <td>False</td>\n",
       "      <td>MasterCard</td>\n",
       "      <td>EUR</td>\n",
       "      <td>True</td>\n",
       "      <td>2024-04</td>\n",
       "      <td>3195.19</td>\n",
       "      <td>True</td>\n",
       "    </tr>\n",
       "    <tr>\n",
       "      <th>12483</th>\n",
       "      <td>TXN012484</td>\n",
       "      <td>1583</td>\n",
       "      <td>2024-01-14</td>\n",
       "      <td>2418.96</td>\n",
       "      <td>Duncan, Casey and Osborn</td>\n",
       "      <td>Health</td>\n",
       "      <td>UK</td>\n",
       "      <td>False</td>\n",
       "      <td>MasterCard</td>\n",
       "      <td>GBP</td>\n",
       "      <td>True</td>\n",
       "      <td>2024-01</td>\n",
       "      <td>3144.65</td>\n",
       "      <td>True</td>\n",
       "    </tr>\n",
       "    <tr>\n",
       "      <th>6406</th>\n",
       "      <td>TXN006407</td>\n",
       "      <td>2664</td>\n",
       "      <td>2024-04-03</td>\n",
       "      <td>4131.96</td>\n",
       "      <td>Barnes Inc</td>\n",
       "      <td>Groceries</td>\n",
       "      <td>Singapore</td>\n",
       "      <td>False</td>\n",
       "      <td>Visa</td>\n",
       "      <td>SGD</td>\n",
       "      <td>True</td>\n",
       "      <td>2024-04</td>\n",
       "      <td>3057.65</td>\n",
       "      <td>True</td>\n",
       "    </tr>\n",
       "    <tr>\n",
       "      <th>10578</th>\n",
       "      <td>TXN010579</td>\n",
       "      <td>1102</td>\n",
       "      <td>2023-12-16</td>\n",
       "      <td>2317.20</td>\n",
       "      <td>Green, Sims and Duran</td>\n",
       "      <td>Health</td>\n",
       "      <td>UK</td>\n",
       "      <td>False</td>\n",
       "      <td>AmEx</td>\n",
       "      <td>GBP</td>\n",
       "      <td>True</td>\n",
       "      <td>2023-12</td>\n",
       "      <td>3012.36</td>\n",
       "      <td>True</td>\n",
       "    </tr>\n",
       "    <tr>\n",
       "      <th>5244</th>\n",
       "      <td>TXN005245</td>\n",
       "      <td>2421</td>\n",
       "      <td>2024-05-21</td>\n",
       "      <td>2316.72</td>\n",
       "      <td>Rodgers PLC</td>\n",
       "      <td>Health</td>\n",
       "      <td>UK</td>\n",
       "      <td>False</td>\n",
       "      <td>AmEx</td>\n",
       "      <td>GBP</td>\n",
       "      <td>True</td>\n",
       "      <td>2024-05</td>\n",
       "      <td>3011.74</td>\n",
       "      <td>True</td>\n",
       "    </tr>\n",
       "  </tbody>\n",
       "</table>\n",
       "</div>"
      ],
      "text/plain": [
       "      transaction_id  customer_id       date   amount  \\\n",
       "13645      TXN013646         1052 2024-05-05  3654.36   \n",
       "22952      TXN022953         1553 2023-12-09  4473.00   \n",
       "16453      TXN016454         1907 2024-01-29  4227.96   \n",
       "8087       TXN008088         1097 2024-02-03  3044.40   \n",
       "14031      TXN014032         2493 2024-02-06  2797.20   \n",
       "12013      TXN012014         2277 2024-04-06  2904.72   \n",
       "12483      TXN012484         1583 2024-01-14  2418.96   \n",
       "6406       TXN006407         2664 2024-04-03  4131.96   \n",
       "10578      TXN010579         1102 2023-12-16  2317.20   \n",
       "5244       TXN005245         2421 2024-05-21  2316.72   \n",
       "\n",
       "                         merchant     category    country  is_international  \\\n",
       "13645                    Tate LLC  Electronics         UK             False   \n",
       "22952             Hernandez-Marks      Unknown        USA             False   \n",
       "16453  Hodges, Martinez and Price    Utilities        USA             False   \n",
       "8087     Drake, Thomas and Flores  Electronics         UK             False   \n",
       "14031                 Alvarez LLC      Unknown         UK             False   \n",
       "12013            Hawkins-Mcdonald    Utilities    Germany             False   \n",
       "12483    Duncan, Casey and Osborn       Health         UK             False   \n",
       "6406                   Barnes Inc    Groceries  Singapore             False   \n",
       "10578       Green, Sims and Duran       Health         UK             False   \n",
       "5244                  Rodgers PLC       Health         UK             False   \n",
       "\n",
       "        card_type currency  flagged year_month  amount_usd  is_outlier  \n",
       "13645  MasterCard      GBP     True    2024-05     4750.67        True  \n",
       "22952  MasterCard      USD     True    2023-12     4473.00        True  \n",
       "16453        Visa      USD     True    2024-01     4227.96        True  \n",
       "8087         Visa      GBP     True    2024-02     3957.72        True  \n",
       "14031  MasterCard      GBP     True    2024-02     3636.36        True  \n",
       "12013  MasterCard      EUR     True    2024-04     3195.19        True  \n",
       "12483  MasterCard      GBP     True    2024-01     3144.65        True  \n",
       "6406         Visa      SGD     True    2024-04     3057.65        True  \n",
       "10578        AmEx      GBP     True    2023-12     3012.36        True  \n",
       "5244         AmEx      GBP     True    2024-05     3011.74        True  "
      ]
     },
     "execution_count": 41,
     "metadata": {},
     "output_type": "execute_result"
    }
   ],
   "source": [
    "# Top 10 outlier transactions\n",
    "df[df['is_outlier']].sort_values(by='amount_usd', ascending=False).head(10)"
   ]
  },
  {
   "cell_type": "code",
   "execution_count": 42,
   "id": "662c6f9d",
   "metadata": {},
   "outputs": [
    {
     "name": "stdout",
     "output_type": "stream",
     "text": [
      "customer_id\n",
      "2856    6\n",
      "2074    5\n",
      "1139    5\n",
      "2610    5\n",
      "1447    5\n",
      "1393    5\n",
      "1520    5\n",
      "1994    4\n",
      "1861    4\n",
      "2816    4\n",
      "Name: amount_usd, dtype: int64\n"
     ]
    }
   ],
   "source": [
    "# Count of outliers per customer\n",
    "outlier_by_customer = df[df['is_outlier']].groupby('customer_id')['amount_usd'].count().sort_values(ascending=False).head(10)\n",
    "print(outlier_by_customer)"
   ]
  },
  {
   "cell_type": "code",
   "execution_count": 43,
   "id": "91a3427f",
   "metadata": {},
   "outputs": [
    {
     "data": {
      "image/png": "[encoded data removed]",
      "text/plain": [
       "<Figure size 800x400 with 1 Axes>"
      ]
     },
     "metadata": {},
     "output_type": "display_data"
    }
   ],
   "source": [
    "import matplotlib.pyplot as plt\n",
    "import seaborn as sns\n",
    "\n",
    "plt.figure(figsize=(8, 4))\n",
    "sns.boxplot(x=df['amount_usd'])\n",
    "plt.title('Distribution of Transaction Amounts (USD)')\n",
    "plt.xlabel('Transaction Amount (USD)')\n",
    "plt.show()"
   ]
  },
  {
   "cell_type": "markdown",
   "id": "f6b428e4",
   "metadata": {},
   "source": [
    "# Export Cleaned Data to SQLite Database"
   ]
  },
  {
   "cell_type": "code",
   "execution_count": 44,
   "id": "c02d2856",
   "metadata": {},
   "outputs": [],
   "source": [
    "import sqlite3\n",
    "\n",
    "# Change this path to wherever you want the file saved\n",
    "conn = sqlite3.connect('credit_card_cleaned.sqlite')\n",
    "\n",
    "# Save your cleaned DataFrame to a table\n",
    "df.to_sql('transactions', conn, if_exists='replace', index=False)\n",
    "\n",
    "conn.close()\n"
   ]
  },
  {
   "cell_type": "code",
   "execution_count": 45,
   "id": "26d340ca",
   "metadata": {},
   "outputs": [
    {
     "name": "stdout",
     "output_type": "stream",
     "text": [
      "   customer_id  total_spent_usd\n",
      "0         1097          5832.32\n",
      "1         1447          5303.44\n",
      "2         1052          5127.17\n",
      "3         1553          4721.76\n",
      "4         1907          4628.75\n",
      "5         2277          4227.30\n",
      "6         2493          3843.24\n",
      "7         1583          3543.32\n",
      "8         2664          3516.68\n",
      "9         1102          3430.57\n"
     ]
    }
   ],
   "source": [
    "import sqlite3\n",
    "import pandas as pd\n",
    "\n",
    "# Connect to your saved database\n",
    "conn = sqlite3.connect('credit_card_cleaned.sqlite')\n",
    "\n",
    "# Which users spent the most?\n",
    "query = \"\"\"\n",
    "SELECT\n",
    "    customer_id,\n",
    "    ROUND(SUM(amount_usd), 2) AS total_spent_usd\n",
    "FROM transactions\n",
    "GROUP BY customer_id\n",
    "ORDER BY total_spent_usd DESC\n",
    "LIMIT 10;\n",
    "\"\"\"\n",
    "\n",
    "top_spenders = pd.read_sql_query(query, conn)\n",
    "conn.close()\n",
    "print(top_spenders)\n",
    "\n"
   ]
  },
  {
   "cell_type": "code",
   "execution_count": 46,
   "id": "feba80f2",
   "metadata": {},
   "outputs": [],
   "source": [
    "%load_ext sql\n",
    "%sql sqlite:///credit_card_cleaned.sqlite"
   ]
  },
  {
   "cell_type": "code",
   "execution_count": 47,
   "id": "425462a4",
   "metadata": {},
   "outputs": [
    {
     "data": {
      "application/vnd.microsoft.datawrangler.viewer.v0+json": {
       "columns": [
        {
         "name": "index",
         "rawType": "int64",
         "type": "integer"
        },
        {
         "name": "year_month",
         "rawType": "object",
         "type": "string"
        },
        {
         "name": "country",
         "rawType": "object",
         "type": "string"
        },
        {
         "name": "total_spent_usd",
         "rawType": "float64",
         "type": "float"
        }
       ],
       "ref": "0e175ea1-da6a-4754-9cd2-06e42628ccec",
       "rows": [
        [
         "0",
         "2023-12",
         "UK",
         "67629.24"
        ],
        [
         "1",
         "2023-12",
         "USA",
         "57696.96"
        ],
        [
         "2",
         "2023-12",
         "Germany",
         "51121.6"
        ],
        [
         "3",
         "2023-12",
         "Singapore",
         "33158.38"
        ],
        [
         "4",
         "2023-12",
         "Taiwan",
         "1389.09"
        ],
        [
         "5",
         "2023-12",
         "India",
         "604.93"
        ],
        [
         "6",
         "2023-12",
         "Japan",
         "367.25"
        ],
        [
         "7",
         "2023-12",
         "Vietnam",
         "1.52"
        ],
        [
         "8",
         "2024-01",
         "UK",
         "69696.75"
        ],
        [
         "9",
         "2024-01",
         "Germany",
         "56637.9"
        ]
       ],
       "shape": {
        "columns": 3,
        "rows": 10
       }
      },
      "text/html": [
       "<div>\n",
       "<style scoped>\n",
       "    .dataframe tbody tr th:only-of-type {\n",
       "        vertical-align: middle;\n",
       "    }\n",
       "\n",
       "    .dataframe tbody tr th {\n",
       "        vertical-align: top;\n",
       "    }\n",
       "\n",
       "    .dataframe thead th {\n",
       "        text-align: right;\n",
       "    }\n",
       "</style>\n",
       "<table border=\"1\" class=\"dataframe\">\n",
       "  <thead>\n",
       "    <tr style=\"text-align: right;\">\n",
       "      <th></th>\n",
       "      <th>year_month</th>\n",
       "      <th>country</th>\n",
       "      <th>total_spent_usd</th>\n",
       "    </tr>\n",
       "  </thead>\n",
       "  <tbody>\n",
       "    <tr>\n",
       "      <th>0</th>\n",
       "      <td>2023-12</td>\n",
       "      <td>UK</td>\n",
       "      <td>67629.24</td>\n",
       "    </tr>\n",
       "    <tr>\n",
       "      <th>1</th>\n",
       "      <td>2023-12</td>\n",
       "      <td>USA</td>\n",
       "      <td>57696.96</td>\n",
       "    </tr>\n",
       "    <tr>\n",
       "      <th>2</th>\n",
       "      <td>2023-12</td>\n",
       "      <td>Germany</td>\n",
       "      <td>51121.60</td>\n",
       "    </tr>\n",
       "    <tr>\n",
       "      <th>3</th>\n",
       "      <td>2023-12</td>\n",
       "      <td>Singapore</td>\n",
       "      <td>33158.38</td>\n",
       "    </tr>\n",
       "    <tr>\n",
       "      <th>4</th>\n",
       "      <td>2023-12</td>\n",
       "      <td>Taiwan</td>\n",
       "      <td>1389.09</td>\n",
       "    </tr>\n",
       "    <tr>\n",
       "      <th>5</th>\n",
       "      <td>2023-12</td>\n",
       "      <td>India</td>\n",
       "      <td>604.93</td>\n",
       "    </tr>\n",
       "    <tr>\n",
       "      <th>6</th>\n",
       "      <td>2023-12</td>\n",
       "      <td>Japan</td>\n",
       "      <td>367.25</td>\n",
       "    </tr>\n",
       "    <tr>\n",
       "      <th>7</th>\n",
       "      <td>2023-12</td>\n",
       "      <td>Vietnam</td>\n",
       "      <td>1.52</td>\n",
       "    </tr>\n",
       "    <tr>\n",
       "      <th>8</th>\n",
       "      <td>2024-01</td>\n",
       "      <td>UK</td>\n",
       "      <td>69696.75</td>\n",
       "    </tr>\n",
       "    <tr>\n",
       "      <th>9</th>\n",
       "      <td>2024-01</td>\n",
       "      <td>Germany</td>\n",
       "      <td>56637.90</td>\n",
       "    </tr>\n",
       "  </tbody>\n",
       "</table>\n",
       "</div>"
      ],
      "text/plain": [
       "  year_month    country  total_spent_usd\n",
       "0    2023-12         UK         67629.24\n",
       "1    2023-12        USA         57696.96\n",
       "2    2023-12    Germany         51121.60\n",
       "3    2023-12  Singapore         33158.38\n",
       "4    2023-12     Taiwan          1389.09\n",
       "5    2023-12      India           604.93\n",
       "6    2023-12      Japan           367.25\n",
       "7    2023-12    Vietnam             1.52\n",
       "8    2024-01         UK         69696.75\n",
       "9    2024-01    Germany         56637.90"
      ]
     },
     "execution_count": 47,
     "metadata": {},
     "output_type": "execute_result"
    }
   ],
   "source": [
    "#What’s the monthly volume of transactions by country\n",
    "\n",
    "# Connect to local SQLite file\n",
    "conn = sqlite3.connect('credit_card_cleaned.sqlite')\n",
    "\n",
    "# Define SQL query\n",
    "query = \"\"\"\n",
    "SELECT\n",
    "    strftime('%Y-%m', date) AS year_month,\n",
    "    country,\n",
    "    ROUND(SUM(amount_usd), 2) AS total_spent_usd\n",
    "FROM transactions\n",
    "GROUP BY year_month, country\n",
    "ORDER BY year_month, total_spent_usd DESC;\n",
    "\"\"\"\n",
    "\n",
    "# Run the query and load result into a DataFrame\n",
    "monthly_country_spend = pd.read_sql_query(query, conn)\n",
    "\n",
    "# Close connection\n",
    "conn.close()\n",
    "\n",
    "# Show the result\n",
    "monthly_country_spend.head(10)\n"
   ]
  },
  {
   "cell_type": "code",
   "execution_count": 48,
   "id": "ca3cd79f",
   "metadata": {},
   "outputs": [
    {
     "data": {
      "application/vnd.microsoft.datawrangler.viewer.v0+json": {
       "columns": [
        {
         "name": "index",
         "rawType": "int64",
         "type": "integer"
        },
        {
         "name": "card_type",
         "rawType": "object",
         "type": "string"
        },
        {
         "name": "total_spent_usd",
         "rawType": "float64",
         "type": "float"
        }
       ],
       "ref": "ae6b2d98-41f5-4db4-9e46-fb2ab31656c5",
       "rows": [
        [
         "0",
         "AmEx",
         "532497.08"
        ],
        [
         "1",
         "MasterCard",
         "503708.29"
        ],
        [
         "2",
         "Visa",
         "267528.41"
        ]
       ],
       "shape": {
        "columns": 2,
        "rows": 3
       }
      },
      "text/html": [
       "<div>\n",
       "<style scoped>\n",
       "    .dataframe tbody tr th:only-of-type {\n",
       "        vertical-align: middle;\n",
       "    }\n",
       "\n",
       "    .dataframe tbody tr th {\n",
       "        vertical-align: top;\n",
       "    }\n",
       "\n",
       "    .dataframe thead th {\n",
       "        text-align: right;\n",
       "    }\n",
       "</style>\n",
       "<table border=\"1\" class=\"dataframe\">\n",
       "  <thead>\n",
       "    <tr style=\"text-align: right;\">\n",
       "      <th></th>\n",
       "      <th>card_type</th>\n",
       "      <th>total_spent_usd</th>\n",
       "    </tr>\n",
       "  </thead>\n",
       "  <tbody>\n",
       "    <tr>\n",
       "      <th>0</th>\n",
       "      <td>AmEx</td>\n",
       "      <td>532497.08</td>\n",
       "    </tr>\n",
       "    <tr>\n",
       "      <th>1</th>\n",
       "      <td>MasterCard</td>\n",
       "      <td>503708.29</td>\n",
       "    </tr>\n",
       "    <tr>\n",
       "      <th>2</th>\n",
       "      <td>Visa</td>\n",
       "      <td>267528.41</td>\n",
       "    </tr>\n",
       "  </tbody>\n",
       "</table>\n",
       "</div>"
      ],
      "text/plain": [
       "    card_type  total_spent_usd\n",
       "0        AmEx        532497.08\n",
       "1  MasterCard        503708.29\n",
       "2        Visa        267528.41"
      ]
     },
     "execution_count": 48,
     "metadata": {},
     "output_type": "execute_result"
    }
   ],
   "source": [
    "# How much do users spend by card type?\n",
    "query = \"\"\"\n",
    "SELECT\n",
    "    card_type,\n",
    "    ROUND(SUM(amount_usd), 2) AS total_spent_usd\n",
    "FROM transactions\n",
    "GROUP BY card_type\n",
    "ORDER BY total_spent_usd DESC;\n",
    "\"\"\"\n",
    "\n",
    "card_type_spend = pd.read_sql_query(query, sqlite3.connect('credit_card_cleaned.sqlite'))\n",
    "card_type_spend\n"
   ]
  },
  {
   "cell_type": "code",
   "execution_count": 49,
   "id": "08613e7c",
   "metadata": {},
   "outputs": [
    {
     "data": {
      "application/vnd.microsoft.datawrangler.viewer.v0+json": {
       "columns": [
        {
         "name": "index",
         "rawType": "int64",
         "type": "integer"
        },
        {
         "name": "percent_flagged",
         "rawType": "float64",
         "type": "float"
        }
       ],
       "ref": "249c9c63-e92b-4e62-8344-c922c35015c4",
       "rows": [
        [
         "0",
         "0.653676409359647"
        ]
       ],
       "shape": {
        "columns": 1,
        "rows": 1
       }
      },
      "text/html": [
       "<div>\n",
       "<style scoped>\n",
       "    .dataframe tbody tr th:only-of-type {\n",
       "        vertical-align: middle;\n",
       "    }\n",
       "\n",
       "    .dataframe tbody tr th {\n",
       "        vertical-align: top;\n",
       "    }\n",
       "\n",
       "    .dataframe thead th {\n",
       "        text-align: right;\n",
       "    }\n",
       "</style>\n",
       "<table border=\"1\" class=\"dataframe\">\n",
       "  <thead>\n",
       "    <tr style=\"text-align: right;\">\n",
       "      <th></th>\n",
       "      <th>percent_flagged</th>\n",
       "    </tr>\n",
       "  </thead>\n",
       "  <tbody>\n",
       "    <tr>\n",
       "      <th>0</th>\n",
       "      <td>0.653676</td>\n",
       "    </tr>\n",
       "  </tbody>\n",
       "</table>\n",
       "</div>"
      ],
      "text/plain": [
       "   percent_flagged\n",
       "0         0.653676"
      ]
     },
     "execution_count": 49,
     "metadata": {},
     "output_type": "execute_result"
    }
   ],
   "source": [
    "# What % of transactions are flagged as risky?\n",
    "query = \"\"\"\n",
    "SELECT\n",
    "    SUM(CASE WHEN flagged = 1 THEN 1 ELSE 0 END) * 1.0 / COUNT(*) * 100 AS percent_flagged\n",
    "FROM transactions;\n",
    "\"\"\"\n",
    "\n",
    "percent_flagged = pd.read_sql_query(query, sqlite3.connect('credit_card_cleaned.sqlite'))\n",
    "percent_flagged\n"
   ]
  },
  {
   "cell_type": "code",
   "execution_count": 50,
   "id": "51d34033",
   "metadata": {},
   "outputs": [
    {
     "data": {
      "application/vnd.microsoft.datawrangler.viewer.v0+json": {
       "columns": [
        {
         "name": "index",
         "rawType": "int64",
         "type": "integer"
        },
        {
         "name": "percent_international",
         "rawType": "float64",
         "type": "float"
        }
       ],
       "ref": "1377946b-623a-4ba3-86a0-44305f133c0f",
       "rows": [
        [
         "0",
         "20.497127154634022"
        ]
       ],
       "shape": {
        "columns": 1,
        "rows": 1
       }
      },
      "text/html": [
       "<div>\n",
       "<style scoped>\n",
       "    .dataframe tbody tr th:only-of-type {\n",
       "        vertical-align: middle;\n",
       "    }\n",
       "\n",
       "    .dataframe tbody tr th {\n",
       "        vertical-align: top;\n",
       "    }\n",
       "\n",
       "    .dataframe thead th {\n",
       "        text-align: right;\n",
       "    }\n",
       "</style>\n",
       "<table border=\"1\" class=\"dataframe\">\n",
       "  <thead>\n",
       "    <tr style=\"text-align: right;\">\n",
       "      <th></th>\n",
       "      <th>percent_international</th>\n",
       "    </tr>\n",
       "  </thead>\n",
       "  <tbody>\n",
       "    <tr>\n",
       "      <th>0</th>\n",
       "      <td>20.497127</td>\n",
       "    </tr>\n",
       "  </tbody>\n",
       "</table>\n",
       "</div>"
      ],
      "text/plain": [
       "   percent_international\n",
       "0              20.497127"
      ]
     },
     "execution_count": 50,
     "metadata": {},
     "output_type": "execute_result"
    }
   ],
   "source": [
    "# How much of our usage is international?\n",
    "query = \"\"\"\n",
    "SELECT\n",
    "    SUM(CASE WHEN is_international = 1 THEN 1 ELSE 0 END) * 1.0 / COUNT(*) * 100 AS percent_international\n",
    "FROM transactions;\n",
    "\"\"\"\n",
    "\n",
    "percent_international = pd.read_sql_query(query, sqlite3.connect('credit_card_cleaned.sqlite'))\n",
    "percent_international\n"
   ]
  },
  {
   "cell_type": "code",
   "execution_count": 51,
   "id": "b87f5a7a",
   "metadata": {},
   "outputs": [],
   "source": [
    "# Export cleaned DataFrame to CSV\n",
    "df.to_csv('credit_card_cleaned.csv', index=False)"
   ]
  }
 ],
 "metadata": {
  "kernelspec": {
   "display_name": "Python 3",
   "language": "python",
   "name": "python3"
  },
  "language_info": {
   "codemirror_mode": {
    "name": "ipython",
    "version": 3
   },
   "file_extension": ".py",
   "mimetype": "text/x-python",
   "name": "python",
   "nbconvert_exporter": "python",
   "pygments_lexer": "ipython3",
   "version": "3.13.5"
  }
 },
 "nbformat": 4,
 "nbformat_minor": 5
}
